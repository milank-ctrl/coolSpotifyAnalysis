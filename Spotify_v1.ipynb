{
 "cells": [
  {
   "cell_type": "code",
   "execution_count": 138,
   "metadata": {},
   "outputs": [],
   "source": [
    "import spotipy\n",
    "from spotipy.oauth2 import SpotifyClientCredentials\n",
    "import spotipy.util as util\n",
    "import pw"
   ]
  },
  {
   "cell_type": "code",
   "execution_count": 141,
   "metadata": {},
   "outputs": [],
   "source": [
    "\n",
    "client_id = pw.client_id\n",
    "client_secret = pw.client_secret\n",
    "redirect_uri = pw.redirect_uri\n",
    "user_id = pw.user_id\n",
    "username = pw.username"
   ]
  },
  {
   "cell_type": "code",
   "execution_count": 143,
   "metadata": {},
   "outputs": [],
   "source": [
    "token = util.prompt_for_user_token(user_id,\n",
    "                                   'playlist-read-collaborative',\n",
    "                                   client_id=client_id,\n",
    "                                   client_secret=client_secret,\n",
    "                                   redirect_uri=redirect_uri)\n",
    "sp = spotipy.Spotify(auth=token)"
   ]
  },
  {
   "cell_type": "code",
   "execution_count": 144,
   "metadata": {},
   "outputs": [],
   "source": [
    "playlists = sp.user_playlists('kocza.milan')\n",
    "playlist_lst = []\n",
    "\n",
    "for playlist in playlists['items']:\n",
    "    playlist_dict = {}\n",
    "    playlist_dict['playlistName'] = playlist['name']\n",
    "    playlist_dict['playlistId'] = playlist['id']\n",
    "    playlist_dict['playlistHref'] = playlist['href']\n",
    "    playlist_dict['playlisOwner'] = playlist['owner']['display_name']\n",
    "    playlist_dict['playlisPublic'] = playlist['public']\n",
    "    playlist_dict['tracksHref'] = playlist['tracks']['href']\n",
    "    playlist_dict['tracksCount'] = playlist['tracks']['total']\n",
    "    \n",
    "    playlist_lst.append(playlist_dict)\n",
    "    \n",
    "    "
   ]
  },
  {
   "cell_type": "code",
   "execution_count": 145,
   "metadata": {},
   "outputs": [
    {
     "data": {
      "text/plain": [
       "{'playlistName': 'fuk.society',\n",
       " 'playlistId': '309rQiuXlHQ1WqwkHouoJO',\n",
       " 'playlistHref': 'https://api.spotify.com/v1/playlists/309rQiuXlHQ1WqwkHouoJO',\n",
       " 'playlisOwner': 'Milán Kócza',\n",
       " 'playlisPublic': True,\n",
       " 'tracksHref': 'https://api.spotify.com/v1/playlists/309rQiuXlHQ1WqwkHouoJO/tracks',\n",
       " 'tracksCount': 3}"
      ]
     },
     "execution_count": 145,
     "metadata": {},
     "output_type": "execute_result"
    }
   ],
   "source": [
    "playlist_lst[0]"
   ]
  },
  {
   "cell_type": "code",
   "execution_count": 134,
   "metadata": {},
   "outputs": [],
   "source": [
    "track_lst = []\n",
    "\n",
    "for playlist in playlist_lst:\n",
    "    \n",
    "    playlistId = playlist[\"playlistId\"]\n",
    "    \n",
    "    sourcePlaylist = sp.user_playlist(user=username, playlist_id=playlistId)\n",
    "    tracks = sourcePlaylist['tracks']\n",
    "\n",
    "    while True:\n",
    "        for track in tracks['items']:\n",
    "\n",
    "            track_dict = {}\n",
    "            \n",
    "            track_dict['playListId'] = playlistId\n",
    "            track_dict['playListName'] = playlist[\"playlistName\"]\n",
    "            track_dict['added_at'] = track['added_at']\n",
    "            track_dict['artisId'] = track['track']['album']['artists'][0]['id']\n",
    "            track_dict['artisName'] = track['track']['album']['artists'][0]['name']\n",
    "            track_dict['artisType'] = track['track']['album']['artists'][0]['type']\n",
    "            track_dict['albumId'] = track['track']['album']['id']\n",
    "            track_dict['albumName'] = track['track']['album']['name']\n",
    "            track_dict['albumReleaseDate'] = track['track']['album']['release_date']\n",
    "            track_dict['songId'] = track['track']['id']\n",
    "            track_dict['songTitle'] = track['track']['name']\n",
    "            track_dict['songPopularity'] = track['track']['popularity']\n",
    "            track_dict['songDurationMs'] = track['track']['duration_ms']\n",
    "\n",
    "            track_lst.append(track_dict)\n",
    "\n",
    "        if tracks['next'] == None:\n",
    "            break\n",
    "\n",
    "        tracks = sp._get(tracks['next'])\n",
    "    \n"
   ]
  },
  {
   "cell_type": "code",
   "execution_count": null,
   "metadata": {},
   "outputs": [],
   "source": []
  }
 ],
 "metadata": {
  "kernelspec": {
   "display_name": "Python 3",
   "language": "python",
   "name": "python3"
  },
  "language_info": {
   "codemirror_mode": {
    "name": "ipython",
    "version": 3
   },
   "file_extension": ".py",
   "mimetype": "text/x-python",
   "name": "python",
   "nbconvert_exporter": "python",
   "pygments_lexer": "ipython3",
   "version": "3.6.9"
  }
 },
 "nbformat": 4,
 "nbformat_minor": 2
}
