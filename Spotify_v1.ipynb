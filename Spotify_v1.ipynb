{
 "cells": [
  {
   "cell_type": "code",
   "execution_count": 149,
   "metadata": {},
   "outputs": [],
   "source": [
    "import spotipy\n",
    "from spotipy.oauth2 import SpotifyClientCredentials\n",
    "import spotipy.util as util\n",
    "import pw"
   ]
  },
  {
   "cell_type": "code",
   "execution_count": 150,
   "metadata": {},
   "outputs": [],
   "source": [
    "\n",
    "client_id = pw.client_id\n",
    "client_secret = pw.client_secret\n",
    "redirect_uri = pw.redirect_uri\n",
    "user_id = pw.user_id\n",
    "username = pw.username"
   ]
  },
  {
   "cell_type": "code",
   "execution_count": 151,
   "metadata": {},
   "outputs": [],
   "source": [
    "token = util.prompt_for_user_token(user_id,\n",
    "                                   'playlist-read-collaborative',\n",
    "                                   client_id=client_id,\n",
    "                                   client_secret=client_secret,\n",
    "                                   redirect_uri=redirect_uri)\n",
    "sp = spotipy.Spotify(auth=token)"
   ]
  },
  {
   "cell_type": "code",
   "execution_count": 152,
   "metadata": {},
   "outputs": [],
   "source": [
    "playlists = sp.user_playlists('kocza.milan')\n",
    "playlist_lst = []\n",
    "\n",
    "for playlist in playlists['items']:\n",
    "    playlist_dict = {}\n",
    "    playlist_dict['playlistName'] = playlist['name']\n",
    "    playlist_dict['playlistId'] = playlist['id']\n",
    "    playlist_dict['playlistHref'] = playlist['href']\n",
    "    playlist_dict['playlisOwner'] = playlist['owner']['display_name']\n",
    "    playlist_dict['playlisPublic'] = playlist['public']\n",
    "    playlist_dict['tracksHref'] = playlist['tracks']['href']\n",
    "    playlist_dict['tracksCount'] = playlist['tracks']['total']\n",
    "    \n",
    "    playlist_lst.append(playlist_dict)\n",
    "    \n",
    "    "
   ]
  },
  {
   "cell_type": "code",
   "execution_count": 153,
   "metadata": {},
   "outputs": [
    {
     "data": {
      "text/plain": [
       "{'playlistName': 'fuk.society',\n",
       " 'playlistId': '309rQiuXlHQ1WqwkHouoJO',\n",
       " 'playlistHref': 'https://api.spotify.com/v1/playlists/309rQiuXlHQ1WqwkHouoJO',\n",
       " 'playlisOwner': 'Milán Kócza',\n",
       " 'playlisPublic': True,\n",
       " 'tracksHref': 'https://api.spotify.com/v1/playlists/309rQiuXlHQ1WqwkHouoJO/tracks',\n",
       " 'tracksCount': 3}"
      ]
     },
     "execution_count": 153,
     "metadata": {},
     "output_type": "execute_result"
    }
   ],
   "source": [
    "playlist_lst[0]"
   ]
  },
  {
   "cell_type": "code",
   "execution_count": 154,
   "metadata": {},
   "outputs": [],
   "source": [
    "track_lst = []\n",
    "\n",
    "for playlist in playlist_lst:\n",
    "    \n",
    "    playlistId = playlist[\"playlistId\"]\n",
    "    \n",
    "    sourcePlaylist = sp.user_playlist(user=username, playlist_id=playlistId)\n",
    "    tracks = sourcePlaylist['tracks']\n",
    "\n",
    "    while True:\n",
    "        for track in tracks['items']:\n",
    "\n",
    "            track_dict = {}\n",
    "            \n",
    "            track_dict['playListId'] = playlistId\n",
    "            track_dict['playListName'] = playlist[\"playlistName\"]\n",
    "            track_dict['added_at'] = track['added_at']\n",
    "            track_dict['artisId'] = track['track']['album']['artists'][0]['id']\n",
    "            track_dict['artisName'] = track['track']['album']['artists'][0]['name']\n",
    "            track_dict['artisType'] = track['track']['album']['artists'][0]['type']\n",
    "            track_dict['albumId'] = track['track']['album']['id']\n",
    "            track_dict['albumName'] = track['track']['album']['name']\n",
    "            track_dict['albumReleaseDate'] = track['track']['album']['release_date']\n",
    "            track_dict['songId'] = track['track']['id']\n",
    "            track_dict['songTitle'] = track['track']['name']\n",
    "            track_dict['songPopularity'] = track['track']['popularity']\n",
    "            track_dict['songDurationMs'] = track['track']['duration_ms']\n",
    "\n",
    "            track_lst.append(track_dict)\n",
    "\n",
    "        if tracks['next'] == None:\n",
    "            break\n",
    "\n",
    "        tracks = sp._get(tracks['next'])\n",
    "    \n"
   ]
  },
  {
   "cell_type": "code",
   "execution_count": 159,
   "metadata": {},
   "outputs": [
    {
     "data": {
      "text/plain": [
       "{'playListId': '309rQiuXlHQ1WqwkHouoJO',\n",
       " 'playListName': 'fuk.society',\n",
       " 'added_at': '2019-09-16T21:12:05Z',\n",
       " 'artisId': '75mafsNqNE1WSEVxIKuY5C',\n",
       " 'artisName': 'IDLES',\n",
       " 'artisType': 'artist',\n",
       " 'albumId': '27NYgZQHcapoSAs5bWAxRI',\n",
       " 'albumName': 'Joy as an Act of Resistance.',\n",
       " 'albumReleaseDate': '2018-08-31',\n",
       " 'songId': '4k69tGZejKwfXPCJtyP55x',\n",
       " 'songTitle': 'Never Fight A Man With A Perm',\n",
       " 'songPopularity': 59,\n",
       " 'songDurationMs': 228831}"
      ]
     },
     "execution_count": 159,
     "metadata": {},
     "output_type": "execute_result"
    }
   ],
   "source": [
    "track_lst[2]"
   ]
  },
  {
   "cell_type": "code",
   "execution_count": 160,
   "metadata": {},
   "outputs": [
    {
     "data": {
      "text/plain": [
       "[{'danceability': 0.255,\n",
       "  'energy': 0.946,\n",
       "  'key': 9,\n",
       "  'loudness': -4.876,\n",
       "  'mode': 1,\n",
       "  'speechiness': 0.152,\n",
       "  'acousticness': 0.000288,\n",
       "  'instrumentalness': 0.000565,\n",
       "  'liveness': 0.196,\n",
       "  'valence': 0.223,\n",
       "  'tempo': 155.967,\n",
       "  'type': 'audio_features',\n",
       "  'id': '4k69tGZejKwfXPCJtyP55x',\n",
       "  'uri': 'spotify:track:4k69tGZejKwfXPCJtyP55x',\n",
       "  'track_href': 'https://api.spotify.com/v1/tracks/4k69tGZejKwfXPCJtyP55x',\n",
       "  'analysis_url': 'https://api.spotify.com/v1/audio-analysis/4k69tGZejKwfXPCJtyP55x',\n",
       "  'duration_ms': 228832,\n",
       "  'time_signature': 4}]"
      ]
     },
     "execution_count": 160,
     "metadata": {},
     "output_type": "execute_result"
    }
   ],
   "source": [
    "sp.audio_features('4k69tGZejKwfXPCJtyP55x')\n",
    "#sp.audio_analysis('2CU9pGd7lq4fSHiFwjs842')"
   ]
  },
  {
   "cell_type": "code",
   "execution_count": 161,
   "metadata": {},
   "outputs": [
    {
     "data": {
      "text/plain": [
       "{'external_urls': {'spotify': 'https://open.spotify.com/artist/75mafsNqNE1WSEVxIKuY5C'},\n",
       " 'followers': {'href': None, 'total': 150264},\n",
       " 'genres': ['bristol indie', 'modern rock'],\n",
       " 'href': 'https://api.spotify.com/v1/artists/75mafsNqNE1WSEVxIKuY5C',\n",
       " 'id': '75mafsNqNE1WSEVxIKuY5C',\n",
       " 'images': [{'height': 640,\n",
       "   'url': 'https://i.scdn.co/image/2ffa47b9c56241d9b63c93a59da02888dfc59129',\n",
       "   'width': 640},\n",
       "  {'height': 320,\n",
       "   'url': 'https://i.scdn.co/image/f4c4b55d42ba946c8d2dcb093e07ae318fe9a814',\n",
       "   'width': 320},\n",
       "  {'height': 160,\n",
       "   'url': 'https://i.scdn.co/image/d1ceec66c4356ab59601b4f0bd0c2c8f0645b8d6',\n",
       "   'width': 160}],\n",
       " 'name': 'IDLES',\n",
       " 'popularity': 63,\n",
       " 'type': 'artist',\n",
       " 'uri': 'spotify:artist:75mafsNqNE1WSEVxIKuY5C'}"
      ]
     },
     "execution_count": 161,
     "metadata": {},
     "output_type": "execute_result"
    }
   ],
   "source": [
    "sp.artist('75mafsNqNE1WSEVxIKuY5C')"
   ]
  },
  {
   "cell_type": "code",
   "execution_count": 166,
   "metadata": {},
   "outputs": [
    {
     "data": {
      "text/plain": [
       "{'display_name': 'Milán Kócza',\n",
       " 'external_urls': {'spotify': 'https://open.spotify.com/user/kocza.milan'},\n",
       " 'followers': {'href': None, 'total': 33},\n",
       " 'href': 'https://api.spotify.com/v1/users/kocza.milan',\n",
       " 'id': 'kocza.milan',\n",
       " 'images': [{'height': None,\n",
       "   'url': 'https://platform-lookaside.fbsbx.com/platform/profilepic/?asid=740209552677170&height=300&width=300&ext=1577538234&hash=AeSKbyiOfSNwQi8O',\n",
       "   'width': None}],\n",
       " 'type': 'user',\n",
       " 'uri': 'spotify:user:kocza.milan'}"
      ]
     },
     "execution_count": 166,
     "metadata": {},
     "output_type": "execute_result"
    }
   ],
   "source": [
    "sp."
   ]
  },
  {
   "cell_type": "code",
   "execution_count": null,
   "metadata": {},
   "outputs": [],
   "source": []
  }
 ],
 "metadata": {
  "kernelspec": {
   "display_name": "Python 3",
   "language": "python",
   "name": "python3"
  },
  "language_info": {
   "codemirror_mode": {
    "name": "ipython",
    "version": 3
   },
   "file_extension": ".py",
   "mimetype": "text/x-python",
   "name": "python",
   "nbconvert_exporter": "python",
   "pygments_lexer": "ipython3",
   "version": "3.6.9"
  }
 },
 "nbformat": 4,
 "nbformat_minor": 2
}
